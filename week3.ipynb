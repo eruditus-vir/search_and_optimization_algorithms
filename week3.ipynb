{
 "cells": [
  {
   "cell_type": "code",
   "execution_count": null,
   "metadata": {
    "collapsed": true
   },
   "outputs": [],
   "source": [
    "! pip install numpy pandas matplotlib"
   ]
  },
  {
   "cell_type": "code",
   "execution_count": 2,
   "outputs": [
    {
     "name": "stdout",
     "output_type": "stream",
     "text": [
      "\n"
     ]
    }
   ],
   "source": [
    "\"\"\"\n",
    "1.\n",
    "The Tabu search search space is assumed to be discrete, even finite. Consider a continuous optimization setting, for example the minimization of a function [0,1] x [0,1] → R. Here the concept of a neighbor of a point is ambiguous as each point has infinitely many neighbors. How would you define the neighbors of a solution so that tabu search could be used?\n",
    "\"\"\"\n",
    "print()"
   ],
   "metadata": {
    "collapsed": false
   }
  },
  {
   "cell_type": "code",
   "execution_count": 1,
   "outputs": [
    {
     "name": "stdout",
     "output_type": "stream",
     "text": [
      "\n"
     ]
    }
   ],
   "source": [
    "\"\"\"\n",
    "Answer:\n",
    "Firstly, I would bin the search space into discrete, evenly spaced search space.\n",
    "For example in [0,1] x [0,1]  search space. Essentially, I would basically bin it into 11 x 11 search space like binning histogram. This way the search space is discrete and even finite. For more granularity, one could split the search space even further at the price of bigger search space.\n",
    "\n",
    "Secondly, for each dimension of the search space, the neighbor is basically the increase or decrease of each dimension at one step. For example in [0,1] x [0,1] search space, we turn it into 11 x 11 search space of 0 to 1 with spacing of 0.1 each. If we initialize at [0.1, 0.5], our neighbors would be a list of [0.0,0.5], [0.2,0.5], [0.1,0.6], [0.1,0.4]. This would allow us to respect the new search space we have created with tabu list assumption while keeping the neighbors size limited.\n",
    "\n",
    "Therefore, we would have a search space of [0, 0.1, 0.2,...., 0.9, 1.0] for each dimension according to example and we can define our neighbors as increase or decrease in each dimension.\n",
    "\n",
    "However, this method suffers from inaccuracy due to the fact that we are not looking for the actual optima point but its approximation.\n",
    "\"\"\"\n",
    "print()"
   ],
   "metadata": {
    "collapsed": false
   }
  },
  {
   "cell_type": "code",
   "execution_count": 3,
   "outputs": [
    {
     "name": "stdout",
     "output_type": "stream",
     "text": [
      "\n"
     ]
    }
   ],
   "source": [
    "\"\"\"\n",
    "\n",
    "2.\n",
    "\n",
    "Download the code in tabu.py. The aim is to fill in the missing parts of the code in order to solve QAP with tabu search as described in the book chapter. You can implement everything from scratch if you like.\n",
    "\n",
    "By default, the code solves the QAP instance given on the lecture slides. Once you have working code, solve the given NUG5 instance (the global optimum is 50).\n",
    "\n",
    "(3 points)\n",
    "\n",
    "Then uncomment the NUG20 instance and report the best objective value you could obtain.\n",
    "\n",
    "Try different iteration numbers and tenures. More QAP instances are found in http://mistic.heig-vd.ch/taillard/problemes.dir/qap.dir/qap.html if you are interested.\n",
    "\n",
    "The file format is as follows:\n",
    "\n",
    "Format of quadratic assignment problem instances :\n",
    "\n",
    "Size of the problem, best solution value (if known)\n",
    "flow matrix\n",
    "distance matrix\n",
    "(1 point)\n",
    "\"\"\"\n",
    "print()"
   ],
   "metadata": {
    "collapsed": false
   }
  },
  {
   "cell_type": "code",
   "execution_count": null,
   "outputs": [],
   "source": [
    "\"\"\"\n",
    "\n",
    "2.\n",
    "\n",
    "Download the code in tabu.py. The aim is to fill in the missing parts of the code in order to solve QAP with tabu search as described in the book chapter. You can implement everything from scratch if you like.\n",
    "\n",
    "By default, the code solves the QAP instance given on the lecture slides. Once you have working code, solve the given NUG5 instance (the global optimum is 50).\n",
    "\n",
    "(3 points)\n",
    "\n",
    "Then uncomment the NUG20 instance and report the best objective value you could obtain.\n",
    "\n",
    "Try different iteration numbers and tenures. More QAP instances are found in http://mistic.heig-vd.ch/taillard/problemes.dir/qap.dir/qap.html if you are interested.\n",
    "\n",
    "The file format is as follows:\n",
    "\n",
    "Format of quadratic assignment problem instances :\n",
    "\n",
    "Size of the problem, best solution value (if known)\n",
    "flow matrix\n",
    "distance matrix\n",
    "(1 point)\n",
    "\"\"\"\n",
    "print()"
   ],
   "metadata": {
    "collapsed": false
   }
  },
  {
   "cell_type": "markdown",
   "source": [
    "# Q2 Implementation"
   ],
   "metadata": {
    "collapsed": false
   }
  },
  {
   "cell_type": "code",
   "execution_count": 2,
   "outputs": [],
   "source": [
    "# imports\n",
    "import numpy as np\n",
    "import random\n",
    "from ast import literal_eval as make_tuple\n"
   ],
   "metadata": {
    "collapsed": false
   }
  },
  {
   "cell_type": "code",
   "execution_count": 3,
   "outputs": [],
   "source": [
    "# test make_tuple for long term memory implementation\n",
    "assert (0,1) == make_tuple(str((0, 1)))"
   ],
   "metadata": {
    "collapsed": false
   }
  },
  {
   "cell_type": "code",
   "execution_count": 4,
   "outputs": [],
   "source": [
    "def generate_moves(indices):\n",
    "    \"\"\"\n",
    "    generate all possible index swap\n",
    "    :param indices:\n",
    "    :return:\n",
    "    \"\"\"\n",
    "    moves = []\n",
    "    for i in range(len(indices) - 1):\n",
    "        for j in range(i + 1, len(indices)):\n",
    "            if i == j:\n",
    "                continue\n",
    "            moves.append((i, j))\n",
    "    return moves\n",
    "\n",
    "\n",
    "class QAPTabuLongTermMemory:\n",
    "    def __init__(self, moves):\n",
    "        self.moves_frequency_map = {str(move): 0 for move in moves}\n",
    "\n",
    "    def update_stat(self, move):\n",
    "        self.moves_frequency_map[str(move)] += 1\n",
    "\n",
    "    def get_least_frequent_move(self):\n",
    "        move = min(self.moves_frequency_map, key=self.moves_frequency_map.get)\n",
    "        return make_tuple(move)\n",
    "\n",
    "\n",
    "class TabuSearchQAP:\n",
    "    def __init__(self,\n",
    "                 kmax: int,\n",
    "                 kmin: int,\n",
    "                 flows_matrix,\n",
    "                 distance_matrix,\n",
    "                 max_iterations: int):\n",
    "        assert 0 < kmin < kmax, \"kmin must be more than 0 and less than kmax\"\n",
    "        self.distance_matrix = distance_matrix\n",
    "        self.flows_matrix = flows_matrix\n",
    "        self.problem_size = len(self.flows_matrix)\n",
    "        self.tabu_matrix = np.zeros((self.problem_size, self.problem_size))\n",
    "        # index --> location\n",
    "        # value --> item\n",
    "        self.solution = np.arange(self.problem_size)\n",
    "\n",
    "        np.random.shuffle(self.solution)\n",
    "        self.moves = generate_moves(self.solution)  # move based on indices\n",
    "        self.kmax = kmax\n",
    "        self.kmin = kmin\n",
    "        # maybe long term memory of moves\n",
    "        self.long_term_memory = QAPTabuLongTermMemory(self.moves)\n",
    "        self.fitness = None\n",
    "        self.max_iterations = max_iterations\n",
    "        self.best_solution = self.solution\n",
    "        self.best_fitness = self.get_current_fitness(self.solution)\n",
    "        self.current_iteration = 0\n",
    "\n",
    "    def solve(self):\n",
    "        fitness = self.best_fitness\n",
    "        for i in range(self.current_iteration, self.max_iterations):\n",
    "            result = self.run_one_iteration(self.solution, fitness, i)\n",
    "            if result is None:\n",
    "                move_chosen = self.long_term_memory.get_least_frequent_move()\n",
    "                result = self.force_generate_neighbor_and_fitness_with_move(\n",
    "                    self.solution, fitness, move_chosen)\n",
    "            move_chosen, new_solution, new_fitness = result\n",
    "            self.update_tabu_list(move_chosen, i)\n",
    "            self.long_term_memory.update_stat(move_chosen)\n",
    "            self.solution = new_solution\n",
    "            fitness = new_fitness\n",
    "            if new_fitness < self.best_fitness:\n",
    "                self.best_solution = new_solution\n",
    "                self.best_fitness = new_fitness\n",
    "            self.current_iteration = i\n",
    "\n",
    "    def force_generate_neighbor_and_fitness_with_move(self, current_solution, current_fitness, move):\n",
    "        neighbor = np.copy(current_solution)\n",
    "        neighbor[move[0]], neighbor[move[1]] = neighbor[move[1]], neighbor[move[0]]\n",
    "        new_fitness = self.get_neighbor_fitness(current_solution,\n",
    "                                                neighbor,\n",
    "                                                current_fitness,\n",
    "                                                move)\n",
    "        return move, neighbor, new_fitness\n",
    "\n",
    "    def update_tabu_list(self, move, iteration):\n",
    "        for m in move:\n",
    "            item = self.solution[m]\n",
    "            self.tabu_matrix[item][m] = iteration + random.randint(self.kmin,\n",
    "                                                                   self.kmax)\n",
    "\n",
    "    def is_index_less_than_iteration(self, index_from, index_to, iteration) -> bool:\n",
    "        item = self.solution[index_from]\n",
    "        # while update_tabu_list add value to move_from of item m\n",
    "        # tabu checks if the location move_to of the item in move_from\n",
    "        # is correct\n",
    "        if self.tabu_matrix[item][index_to] <= iteration:\n",
    "            return True\n",
    "        return False\n",
    "\n",
    "    def is_move_tabu(self, move, iteration) -> bool:\n",
    "        return not self.is_index_less_than_iteration(move[0], move[1],\n",
    "                                                     iteration) and not self.is_index_less_than_iteration(\n",
    "            move[1], move[0], iteration)\n",
    "\n",
    "    def run_one_iteration(self, current_solution, current_fitness, iteration):\n",
    "        \"\"\"\n",
    "        :param iteration:\n",
    "        :param current_solution:\n",
    "        :param current_fitness:\n",
    "        :return: (move_chosen, new_solution, new_fitness)\n",
    "        \"\"\"\n",
    "        neighbors = []\n",
    "        neighbors_fitness = []\n",
    "        moves_chosen = []\n",
    "        for move in self.moves:\n",
    "            if self.is_move_tabu(move, iteration):\n",
    "                continue\n",
    "            neighbor = np.copy(current_solution)\n",
    "            neighbor[move[0]], neighbor[move[1]] = neighbor[move[1]], neighbor[move[0]]\n",
    "            neighbors.append(neighbor)\n",
    "            neighbors_fitness.append(self.get_neighbor_fitness(current_solution, neighbor, current_fitness, move))\n",
    "            moves_chosen.append(move)\n",
    "        moves_and_neighbors_and_fitness = list(zip(moves_chosen, neighbors, neighbors_fitness))\n",
    "        if len(moves_and_neighbors_and_fitness) == 0:\n",
    "            return None\n",
    "        moves_and_neighbors_and_fitness = sorted(moves_and_neighbors_and_fitness, key=lambda x: x[2], reverse=False)\n",
    "        return moves_and_neighbors_and_fitness[0]\n",
    "\n",
    "    def get_neighbor_fitness(self, current_solution, neighbor, fitness, move):\n",
    "        \"\"\"\n",
    "        O(n) update algorithm\n",
    "        You can see that we for each loop we have 2 subtraction/addition instances, this is because in our get_current_fitness, we add both side of the connections. Technically, we can halve our fitnesses function calculation by using only right/left half of the metric to perform their calculation.\n",
    "        :param current_solution:\n",
    "        :param neighbor:\n",
    "        :param fitness:\n",
    "        :param move:\n",
    "        :return:\n",
    "        \"\"\"\n",
    "        nfitness = fitness\n",
    "        # remove old fitness via new solution\n",
    "        for m in move:\n",
    "            for i in range(len(current_solution)):\n",
    "                nfitness -= self.flows_matrix[current_solution[m]][current_solution[i]] * self.distance_matrix[m][i]\n",
    "                nfitness -= self.flows_matrix[current_solution[i]][current_solution[m]] * self.distance_matrix[i][m]\n",
    "\n",
    "        # add new fitness via neighbor\n",
    "        for m in move:\n",
    "            for i in range(len(neighbor)):\n",
    "                nfitness += self.flows_matrix[neighbor[m]][neighbor[i]] * self.distance_matrix[m][i]\n",
    "                nfitness += self.flows_matrix[neighbor[i]][neighbor[m]] * self.distance_matrix[i][m]\n",
    "\n",
    "        return nfitness\n",
    "\n",
    "    def get_current_fitness(self, solution) -> int:\n",
    "        fitness = 0\n",
    "        # re-calculate entire fitness size\n",
    "        # basically all combinations of current setup\n",
    "        for i in range(len(solution)):\n",
    "            for j in range(len(solution)):\n",
    "                fitness += self.flows_matrix[solution[i]][solution[j]] * self.distance_matrix[i][j]\n",
    "        return fitness"
   ],
   "metadata": {
    "collapsed": false
   }
  },
  {
   "cell_type": "code",
   "execution_count": 5,
   "outputs": [],
   "source": [
    "# the flow and distances for qap4 from tabu.py line 60-61\n",
    "# example is from book\n",
    "F = np.array([0, 1, 0, 1,\n",
    "              1, 0, 0, 2,\n",
    "              0, 0, 0, 3,\n",
    "              1, 2, 3, 0]).reshape(4, 4)\n",
    "D = np.array([0, 4, 3, 5,\n",
    "              4, 0, 5, 3,\n",
    "              3, 5, 0, 4,\n",
    "              5, 3, 4, 0]).reshape(4, 4)"
   ],
   "metadata": {
    "collapsed": false
   }
  },
  {
   "cell_type": "code",
   "execution_count": 6,
   "outputs": [
    {
     "name": "stdout",
     "output_type": "stream",
     "text": [
      "[[0 1 0 1]\n",
      " [1 0 0 2]\n",
      " [0 0 0 3]\n",
      " [1 2 3 0]]\n",
      "[[0 4 3 5]\n",
      " [4 0 5 3]\n",
      " [3 5 0 4]\n",
      " [5 3 4 0]]\n"
     ]
    }
   ],
   "source": [
    "print(F)\n",
    "print(D)"
   ],
   "metadata": {
    "collapsed": false
   }
  },
  {
   "cell_type": "code",
   "execution_count": 7,
   "outputs": [],
   "source": [
    "\"\"\"\n",
    "kmax: int,\n",
    "kmin: int,\n",
    "flows_matrix,\n",
    "distance_matrix,\n",
    "max_iterations: int\n",
    "\"\"\"\n",
    "tsq = TabuSearchQAP(10,\n",
    "                    3,\n",
    "                    F,\n",
    "                    D,\n",
    "                    24)"
   ],
   "metadata": {
    "collapsed": false
   }
  },
  {
   "cell_type": "code",
   "execution_count": 8,
   "outputs": [
    {
     "name": "stdout",
     "output_type": "stream",
     "text": [
      "[0 2 1 3]\n",
      "50\n"
     ]
    }
   ],
   "source": [
    "tsq.solve()\n",
    "# A B C D -> locations\n",
    "# 3 1 2 0 -> items\n",
    "# [3, 1, 2, 0] -> solution -> fitness 25*2 = 50\n",
    "# result is multiplied by 2 because we perform the fitness addition on both side of the metric\n",
    "# since theyre symmetric, we technically only need to do 1 side but the implementation is a little bit cumbersome.\n",
    "# my update fitness is currently wrong i think\n",
    "# yup it is --> if put in current fitness i get 50, 58 for the examples\n",
    "print(tsq.best_solution)\n",
    "print(tsq.best_fitness)"
   ],
   "metadata": {
    "collapsed": false
   }
  },
  {
   "cell_type": "code",
   "execution_count": 13,
   "outputs": [
    {
     "name": "stdout",
     "output_type": "stream",
     "text": [
      "[1 0 3 2 4]\n",
      "[3 4 0 1 2]\n",
      "50\n"
     ]
    }
   ],
   "source": [
    "F = np.array([0,5,2,4,1,\n",
    "              5,0,3,0,2,\n",
    "              2,3,0,0,0,\n",
    "              4,0,0,0,5,\n",
    "              1,2,0,5,0]).reshape(5, 5)\n",
    "D = np.array([0,1,1,2,3,\n",
    "              1,0,2,1,2,\n",
    "              1,2,0,1,2,\n",
    "              2,1,1,0,1,\n",
    "              3,2,2,1,0]).reshape(5, 5)\n",
    "tsq = TabuSearchQAP(20,\n",
    "                    10,\n",
    "                    F,\n",
    "                    D,\n",
    "                    1000)\n",
    "tsq.solve()\n",
    "# this is correct at 50 since global minima mentioned in the book is 50\n",
    "print(tsq.solution)\n",
    "print(tsq.best_solution)\n",
    "print(tsq.best_fitness)"
   ],
   "metadata": {
    "collapsed": false
   }
  },
  {
   "cell_type": "code",
   "execution_count": 22,
   "outputs": [
    {
     "name": "stdout",
     "output_type": "stream",
     "text": [
      "72 60 52 52\n"
     ]
    }
   ],
   "source": [
    "# Here the fitness is 70 not 72\n",
    "# might need to ask ivan what he means cus i get 72\n",
    "# sanity checking to follow fitness according to the book\n",
    "f1 = tsq.get_current_fitness([1,3,0,4,2])\n",
    "f2 = tsq.get_neighbor_fitness([1,3,0,4,2],\n",
    "                             [0,3,1,4,2],\n",
    "                             f1,\n",
    "                             (0,2))\n",
    "f3 = tsq.get_neighbor_fitness([0,3,1,4,2],\n",
    "                             [4,3,1,0,2],\n",
    "                             f2,\n",
    "                             (0,3))\n",
    "f4 = tsq.get_neighbor_fitness([4,3,1,0,2],\n",
    "                             [4,1,3,0,2],\n",
    "                             52,\n",
    "                             (1,2))\n",
    "print(f1,f2,f3,f4)"
   ],
   "metadata": {
    "collapsed": false
   }
  },
  {
   "cell_type": "code",
   "execution_count": 24,
   "outputs": [],
   "source": [
    "F = np.array([\n",
    "    [0, 1, 2, 3, 4, 1, 2, 3, 4, 5, 2, 3, 4, 5, 6, 3, 4, 5, 6, 7],\n",
    "    [1, 0, 1, 2, 3, 2, 1, 2, 3, 4, 3, 2, 3, 4, 5, 4, 3, 4, 5, 6],\n",
    "    [2, 1, 0, 1, 2, 3, 2, 1, 2, 3, 4, 3, 2, 3, 4, 5, 4, 3, 4, 5],\n",
    "    [3, 2, 1, 0, 1, 4, 3, 2, 1, 2, 5, 4, 3, 2, 3, 6, 5, 4, 3, 4],\n",
    "    [4, 3, 2, 1, 0, 5, 4, 3, 2, 1, 6, 5, 4, 3, 2, 7, 6, 5, 4, 3],\n",
    "    [1, 2, 3, 4, 5, 0, 1, 2, 3, 4, 1, 2, 3, 4, 5, 2, 3, 4, 5, 6],\n",
    "    [2, 1, 2, 3, 4, 1, 0, 1, 2, 3, 2, 1, 2, 3, 4, 3, 2, 3, 4, 5],\n",
    "    [3, 2, 1, 2, 3, 2, 1, 0, 1, 2, 3, 2, 1, 2, 3, 4, 3, 2, 3, 4],\n",
    "    [4, 3, 2, 1, 2, 3, 2, 1, 0, 1, 4, 3, 2, 1, 2, 5, 4, 3, 2, 3],\n",
    "    [5, 4, 3, 2, 1, 4, 3, 2, 1, 0, 5, 4, 3, 2, 1, 6, 5, 4, 3, 2],\n",
    "    [2, 3, 4, 5, 6, 1, 2, 3, 4, 5, 0, 1, 2, 3, 4, 1, 2, 3, 4, 5],\n",
    "    [3, 2, 3, 4, 5, 2, 1, 2, 3, 4, 1, 0, 1, 2, 3, 2, 1, 2, 3, 4],\n",
    "    [4, 3, 2, 3, 4, 3, 2, 1, 2, 3, 2, 1, 0, 1, 2, 3, 2, 1, 2, 3],\n",
    "    [5, 4, 3, 2, 3, 4, 3, 2, 1, 2, 3, 2, 1, 0, 1, 4, 3, 2, 1, 2],\n",
    "    [6, 5, 4, 3, 2, 5, 4, 3, 2, 1, 4, 3, 2, 1, 0, 5, 4, 3, 2, 1],\n",
    "    [3, 4, 5, 6, 7, 2, 3, 4, 5, 6, 1, 2, 3, 4, 5, 0, 1, 2, 3, 4],\n",
    "    [4, 3, 4, 5, 6, 3, 2, 3, 4, 5, 2, 1, 2, 3, 4, 1, 0, 1, 2, 3],\n",
    "    [5, 4, 3, 4, 5, 4, 3, 2, 3, 4, 3, 2, 1, 2, 3, 2, 1, 0, 1, 2],\n",
    "    [6, 5, 4, 3, 4, 5, 4, 3, 2, 3, 4, 3, 2, 1, 2, 3, 2, 1, 0, 1],\n",
    "    [7, 6, 5, 4, 3, 6, 5, 4, 3, 2, 5, 4, 3, 2, 1, 4, 3, 2, 1, 0]\n",
    "])\n",
    "D = np.array([\n",
    "    [0,  0,  5,  0,  5,  2, 10,  3,  1,  5,  5,  5,  0,  0,  5,  4,  4,  0,  0,  1],\n",
    "    [0,  0,  3, 10,  5,  1,  5,  1,  2,  4,  2,  5,  0, 10, 10,  3,  0,  5, 10,  5],\n",
    "    [5,  3,  0,  2,  0,  5,  2,  4,  4,  5,  0,  0,  0,  5,  1,  0,  0,  5,  0,  0],\n",
    "    [0, 10,  2,  0,  1,  0,  5,  2,  1,  0, 10,  2,  2,  0,  2,  1,  5,  2,  5,  5],\n",
    "    [5,  5,  0,  1,  0,  5,  6,  5,  2,  5,  2,  0,  5,  1,  1,  1,  5,  2,  5,  1],\n",
    "    [2,  1,  5,  0,  5,  0,  5,  2,  1,  6,  0,  0, 10,  0,  2,  0,  1,  0,  1,  5],\n",
    "    [10,  5,  2,  5,  6,  5,  0,  0,  0,  0,  5, 10,  2,  2,  5,  1,  2,  1,  0, 10],\n",
    "    [3,  1,  4,  2,  5,  2,  0,  0,  1,  1, 10, 10,  2,  0, 10,  2,  5,  2,  2, 10],\n",
    "    [1,  2,  4,  1,  2,  1,  0,  1,  0,  2,  0,  3,  5,  5,  0,  5,  0,  0,  0,  2],\n",
    "    [5,  4,  5,  0,  5,  6,  0,  1,  2,  0,  5,  5,  0,  5,  1,  0,  0,  5,  5,  2],\n",
    "    [5,  2,  0, 10,  2,  0,  5, 10,  0,  5,  0,  5,  2,  5,  1, 10,  0,  2,  2,  5],\n",
    "    [5,  5,  0,  2,  0,  0, 10, 10,  3,  5,  5,  0,  2, 10,  5,  0,  1,  1,  2,  5],\n",
    "    [0,  0,  0,  2,  5, 10,  2,  2,  5,  0,  2,  2,  0,  2,  2,  1,  0,  0,  0,  5],\n",
    "    [0, 10,  5,  0,  1,  0,  2,  0,  5,  5,  5, 10,  2,  0,  5,  5,  1,  5,  5,  0],\n",
    "    [5, 10,  1,  2,  1,  2,  5, 10,  0,  1,  1,  5,  2,  5,  0,  3,  0,  5, 10, 10],\n",
    "    [4,  3,  0,  1,  1,  0,  1,  2,  5,  0, 10,  0,  1,  5,  3,  0,  0,  0,  2,  0],\n",
    "    [4,  0,  0,  5,  5,  1,  2,  5,  0,  0,  0,  1,  0,  1,  0,  0,  0,  5,  2,  0],\n",
    "    [0,  5,  5,  2,  2,  0,  1,  2,  0,  5,  2,  1,  0,  5,  5,  0,  5,  0,  1,  1],\n",
    "    [0, 10,  0,  5,  5,  1,  0,  2,  0,  5,  2,  2,  0,  5, 10,  2,  2,  1,  0,  6],\n",
    "    [1,  5,  0,  5,  1,  5, 10, 10,  2,  2,  5,  5,  5,  0, 10,  0,  0,  1,  6,  0]\n",
    "])"
   ],
   "metadata": {
    "collapsed": false
   }
  },
  {
   "cell_type": "code",
   "execution_count": 26,
   "outputs": [
    {
     "name": "stdout",
     "output_type": "stream",
     "text": [
      "[ 3 11 18 10  1  4  2  8 19 17 13 12  9 16  6 14  0 15  5  7]\n",
      "2570\n"
     ]
    }
   ],
   "source": [
    "tsq = TabuSearchQAP(50,\n",
    "                    10,\n",
    "                    F,\n",
    "                    D,\n",
    "                    10000)\n",
    "tsq.solve()\n",
    "print(tsq.best_solution)\n",
    "print(tsq.best_fitness)"
   ],
   "metadata": {
    "collapsed": false
   }
  },
  {
   "cell_type": "code",
   "execution_count": 30,
   "outputs": [],
   "source": [
    "# QUestion 3 - read .dat file\n",
    "def read_qap_instance(file_path):\n",
    "    with open(file_path, 'r') as file:\n",
    "        lines = file.readlines()\n",
    "\n",
    "    # Read the size of the problem instance\n",
    "    l1 = lines[0].strip().split()\n",
    "    problem_size, best_solution_value = int(l1[0]), None if len(l1) == 1 else tuple(map(int, l1))\n",
    "\n",
    "    # Read the distance matrix\n",
    "    distance_matrix = np.zeros((problem_size, problem_size))\n",
    "    for i in range(2, problem_size + 2):\n",
    "        row = list(map(int, lines[i].strip().split()))\n",
    "        distance_matrix[i - 2] = row\n",
    "\n",
    "    # Read the flow matrix\n",
    "    flow_matrix = np.zeros((problem_size, problem_size))\n",
    "    for i in range(problem_size + 3, 2 * problem_size + 3):\n",
    "        row = list(map(int, lines[i].strip().split()))\n",
    "        flow_matrix[i - problem_size - 3] = row\n",
    "\n",
    "    return problem_size, distance_matrix, flow_matrix\n"
   ],
   "metadata": {
    "collapsed": false
   }
  },
  {
   "cell_type": "code",
   "execution_count": 31,
   "outputs": [
    {
     "name": "stdout",
     "output_type": "stream",
     "text": [
      "[ 3 23 19 18 17 16 14  1 20 15 13 10 22  6 11 12  5  8  2  0 21  9  7  4]\n",
      "3490.0\n"
     ]
    }
   ],
   "source": [
    "problem_size, F, D = read_qap_instance('nug24.dat')\n",
    "tsq = TabuSearchQAP(100,\n",
    "                    10,\n",
    "                    F,\n",
    "                    D,\n",
    "                    10000)\n",
    "tsq.solve()\n",
    "print(tsq.best_solution)\n",
    "print(tsq.best_fitness)"
   ],
   "metadata": {
    "collapsed": false
   }
  },
  {
   "cell_type": "code",
   "execution_count": null,
   "outputs": [],
   "source": [],
   "metadata": {
    "collapsed": false
   }
  }
 ],
 "metadata": {
  "kernelspec": {
   "display_name": "Python 3",
   "language": "python",
   "name": "python3"
  },
  "language_info": {
   "codemirror_mode": {
    "name": "ipython",
    "version": 2
   },
   "file_extension": ".py",
   "mimetype": "text/x-python",
   "name": "python",
   "nbconvert_exporter": "python",
   "pygments_lexer": "ipython2",
   "version": "2.7.6"
  }
 },
 "nbformat": 4,
 "nbformat_minor": 0
}
